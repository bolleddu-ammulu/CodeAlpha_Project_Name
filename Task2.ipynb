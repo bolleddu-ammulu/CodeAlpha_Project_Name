{
 "cells": [
  {
   "cell_type": "code",
   "execution_count": 19,
   "id": "1faf5999-470b-40c0-a2f4-eb664b45c03d",
   "metadata": {},
   "outputs": [],
   "source": [
    "import numpy as np\n",
    "import pandas as pd\n",
    "import yfinance as yf\n",
    "from sklearn.preprocessing import MinMaxScaler\n",
    "from keras.models import Sequential\n",
    "from keras.layers import LSTM, Dense, Dropout"
   ]
  },
  {
   "cell_type": "code",
   "execution_count": 20,
   "id": "490b822a-4cb3-4615-9f01-cff8c8b1165d",
   "metadata": {},
   "outputs": [],
   "source": [
    "start_date=\"2015-01-01\"\n",
    "end_date=\"2023-01-01\""
   ]
  },
  {
   "cell_type": "code",
   "execution_count": 21,
   "id": "caf01b2b-3eda-4f5d-ae61-53c8b4a54ccb",
   "metadata": {},
   "outputs": [
    {
     "name": "stderr",
     "output_type": "stream",
     "text": [
      "[*********************100%%**********************]  1 of 1 completed\n"
     ]
    }
   ],
   "source": [
    "data=yf.download('NVDA',start=start_date,end=end_date) "
   ]
  },
  {
   "cell_type": "code",
   "execution_count": 22,
   "id": "cb571373-b9a7-40a1-a642-5dd41bdd9829",
   "metadata": {},
   "outputs": [
    {
     "data": {
      "text/html": [
       "<div>\n",
       "<style scoped>\n",
       "    .dataframe tbody tr th:only-of-type {\n",
       "        vertical-align: middle;\n",
       "    }\n",
       "\n",
       "    .dataframe tbody tr th {\n",
       "        vertical-align: top;\n",
       "    }\n",
       "\n",
       "    .dataframe thead th {\n",
       "        text-align: right;\n",
       "    }\n",
       "</style>\n",
       "<table border=\"1\" class=\"dataframe\">\n",
       "  <thead>\n",
       "    <tr style=\"text-align: right;\">\n",
       "      <th></th>\n",
       "      <th>Open</th>\n",
       "      <th>High</th>\n",
       "      <th>Low</th>\n",
       "      <th>Close</th>\n",
       "      <th>Adj Close</th>\n",
       "      <th>Volume</th>\n",
       "    </tr>\n",
       "    <tr>\n",
       "      <th>Date</th>\n",
       "      <th></th>\n",
       "      <th></th>\n",
       "      <th></th>\n",
       "      <th></th>\n",
       "      <th></th>\n",
       "      <th></th>\n",
       "    </tr>\n",
       "  </thead>\n",
       "  <tbody>\n",
       "    <tr>\n",
       "      <th>2015-01-02</th>\n",
       "      <td>0.50325</td>\n",
       "      <td>0.50700</td>\n",
       "      <td>0.49525</td>\n",
       "      <td>0.50325</td>\n",
       "      <td>0.483218</td>\n",
       "      <td>113680000</td>\n",
       "    </tr>\n",
       "    <tr>\n",
       "      <th>2015-01-05</th>\n",
       "      <td>0.50325</td>\n",
       "      <td>0.50475</td>\n",
       "      <td>0.49250</td>\n",
       "      <td>0.49475</td>\n",
       "      <td>0.475057</td>\n",
       "      <td>197952000</td>\n",
       "    </tr>\n",
       "    <tr>\n",
       "      <th>2015-01-06</th>\n",
       "      <td>0.49550</td>\n",
       "      <td>0.49600</td>\n",
       "      <td>0.47925</td>\n",
       "      <td>0.47975</td>\n",
       "      <td>0.460654</td>\n",
       "      <td>197764000</td>\n",
       "    </tr>\n",
       "    <tr>\n",
       "      <th>2015-01-07</th>\n",
       "      <td>0.48325</td>\n",
       "      <td>0.48750</td>\n",
       "      <td>0.47700</td>\n",
       "      <td>0.47850</td>\n",
       "      <td>0.459453</td>\n",
       "      <td>321808000</td>\n",
       "    </tr>\n",
       "    <tr>\n",
       "      <th>2015-01-08</th>\n",
       "      <td>0.48400</td>\n",
       "      <td>0.49950</td>\n",
       "      <td>0.48375</td>\n",
       "      <td>0.49650</td>\n",
       "      <td>0.476737</td>\n",
       "      <td>283780000</td>\n",
       "    </tr>\n",
       "    <tr>\n",
       "      <th>...</th>\n",
       "      <td>...</td>\n",
       "      <td>...</td>\n",
       "      <td>...</td>\n",
       "      <td>...</td>\n",
       "      <td>...</td>\n",
       "      <td>...</td>\n",
       "    </tr>\n",
       "    <tr>\n",
       "      <th>2022-12-23</th>\n",
       "      <td>15.19600</td>\n",
       "      <td>15.33900</td>\n",
       "      <td>14.88300</td>\n",
       "      <td>15.20600</td>\n",
       "      <td>15.197296</td>\n",
       "      <td>349326000</td>\n",
       "    </tr>\n",
       "    <tr>\n",
       "      <th>2022-12-27</th>\n",
       "      <td>15.07400</td>\n",
       "      <td>15.10000</td>\n",
       "      <td>14.05600</td>\n",
       "      <td>14.12100</td>\n",
       "      <td>14.112916</td>\n",
       "      <td>464902000</td>\n",
       "    </tr>\n",
       "    <tr>\n",
       "      <th>2022-12-28</th>\n",
       "      <td>13.92700</td>\n",
       "      <td>14.26200</td>\n",
       "      <td>13.88400</td>\n",
       "      <td>14.03600</td>\n",
       "      <td>14.027965</td>\n",
       "      <td>351066000</td>\n",
       "    </tr>\n",
       "    <tr>\n",
       "      <th>2022-12-29</th>\n",
       "      <td>14.40200</td>\n",
       "      <td>14.68300</td>\n",
       "      <td>14.22700</td>\n",
       "      <td>14.60300</td>\n",
       "      <td>14.594640</td>\n",
       "      <td>354923000</td>\n",
       "    </tr>\n",
       "    <tr>\n",
       "      <th>2022-12-30</th>\n",
       "      <td>14.33400</td>\n",
       "      <td>14.62900</td>\n",
       "      <td>14.23300</td>\n",
       "      <td>14.61400</td>\n",
       "      <td>14.605634</td>\n",
       "      <td>310490000</td>\n",
       "    </tr>\n",
       "  </tbody>\n",
       "</table>\n",
       "<p>2014 rows × 6 columns</p>\n",
       "</div>"
      ],
      "text/plain": [
       "                Open      High       Low     Close  Adj Close     Volume\n",
       "Date                                                                    \n",
       "2015-01-02   0.50325   0.50700   0.49525   0.50325   0.483218  113680000\n",
       "2015-01-05   0.50325   0.50475   0.49250   0.49475   0.475057  197952000\n",
       "2015-01-06   0.49550   0.49600   0.47925   0.47975   0.460654  197764000\n",
       "2015-01-07   0.48325   0.48750   0.47700   0.47850   0.459453  321808000\n",
       "2015-01-08   0.48400   0.49950   0.48375   0.49650   0.476737  283780000\n",
       "...              ...       ...       ...       ...        ...        ...\n",
       "2022-12-23  15.19600  15.33900  14.88300  15.20600  15.197296  349326000\n",
       "2022-12-27  15.07400  15.10000  14.05600  14.12100  14.112916  464902000\n",
       "2022-12-28  13.92700  14.26200  13.88400  14.03600  14.027965  351066000\n",
       "2022-12-29  14.40200  14.68300  14.22700  14.60300  14.594640  354923000\n",
       "2022-12-30  14.33400  14.62900  14.23300  14.61400  14.605634  310490000\n",
       "\n",
       "[2014 rows x 6 columns]"
      ]
     },
     "execution_count": 22,
     "metadata": {},
     "output_type": "execute_result"
    }
   ],
   "source": [
    "data"
   ]
  },
  {
   "cell_type": "code",
   "execution_count": 23,
   "id": "b37942f6-ab2b-4d3f-b678-614210ddbedd",
   "metadata": {},
   "outputs": [
    {
     "name": "stdout",
     "output_type": "stream",
     "text": [
      "<class 'pandas.core.frame.DataFrame'>\n",
      "DatetimeIndex: 2014 entries, 2015-01-02 to 2022-12-30\n",
      "Data columns (total 6 columns):\n",
      " #   Column     Non-Null Count  Dtype  \n",
      "---  ------     --------------  -----  \n",
      " 0   Open       2014 non-null   float64\n",
      " 1   High       2014 non-null   float64\n",
      " 2   Low        2014 non-null   float64\n",
      " 3   Close      2014 non-null   float64\n",
      " 4   Adj Close  2014 non-null   float64\n",
      " 5   Volume     2014 non-null   int64  \n",
      "dtypes: float64(5), int64(1)\n",
      "memory usage: 110.1 KB\n"
     ]
    }
   ],
   "source": [
    "data.info()"
   ]
  },
  {
   "cell_type": "code",
   "execution_count": 24,
   "id": "ce8f35f5-2a73-45fb-8e5e-0a35d8c7c467",
   "metadata": {},
   "outputs": [
    {
     "data": {
      "text/html": [
       "<div>\n",
       "<style scoped>\n",
       "    .dataframe tbody tr th:only-of-type {\n",
       "        vertical-align: middle;\n",
       "    }\n",
       "\n",
       "    .dataframe tbody tr th {\n",
       "        vertical-align: top;\n",
       "    }\n",
       "\n",
       "    .dataframe thead th {\n",
       "        text-align: right;\n",
       "    }\n",
       "</style>\n",
       "<table border=\"1\" class=\"dataframe\">\n",
       "  <thead>\n",
       "    <tr style=\"text-align: right;\">\n",
       "      <th></th>\n",
       "      <th>Open</th>\n",
       "      <th>High</th>\n",
       "      <th>Low</th>\n",
       "      <th>Close</th>\n",
       "      <th>Adj Close</th>\n",
       "      <th>Volume</th>\n",
       "    </tr>\n",
       "  </thead>\n",
       "  <tbody>\n",
       "    <tr>\n",
       "      <th>count</th>\n",
       "      <td>2014.000000</td>\n",
       "      <td>2014.000000</td>\n",
       "      <td>2014.000000</td>\n",
       "      <td>2014.000000</td>\n",
       "      <td>2014.000000</td>\n",
       "      <td>2.014000e+03</td>\n",
       "    </tr>\n",
       "    <tr>\n",
       "      <th>mean</th>\n",
       "      <td>7.979089</td>\n",
       "      <td>8.129079</td>\n",
       "      <td>7.818051</td>\n",
       "      <td>7.978563</td>\n",
       "      <td>7.946668</td>\n",
       "      <td>4.782126e+08</td>\n",
       "    </tr>\n",
       "    <tr>\n",
       "      <th>std</th>\n",
       "      <td>7.509996</td>\n",
       "      <td>7.670714</td>\n",
       "      <td>7.327442</td>\n",
       "      <td>7.501542</td>\n",
       "      <td>7.499611</td>\n",
       "      <td>2.696910e+08</td>\n",
       "    </tr>\n",
       "    <tr>\n",
       "      <th>min</th>\n",
       "      <td>0.481250</td>\n",
       "      <td>0.487500</td>\n",
       "      <td>0.473500</td>\n",
       "      <td>0.478500</td>\n",
       "      <td>0.459453</td>\n",
       "      <td>5.244800e+07</td>\n",
       "    </tr>\n",
       "    <tr>\n",
       "      <th>25%</th>\n",
       "      <td>2.471812</td>\n",
       "      <td>2.505625</td>\n",
       "      <td>2.440000</td>\n",
       "      <td>2.475750</td>\n",
       "      <td>2.442941</td>\n",
       "      <td>3.015300e+08</td>\n",
       "    </tr>\n",
       "    <tr>\n",
       "      <th>50%</th>\n",
       "      <td>5.241875</td>\n",
       "      <td>5.298750</td>\n",
       "      <td>5.128125</td>\n",
       "      <td>5.233375</td>\n",
       "      <td>5.193736</td>\n",
       "      <td>4.200140e+08</td>\n",
       "    </tr>\n",
       "    <tr>\n",
       "      <th>75%</th>\n",
       "      <td>13.141000</td>\n",
       "      <td>13.386625</td>\n",
       "      <td>12.954063</td>\n",
       "      <td>13.162187</td>\n",
       "      <td>13.147104</td>\n",
       "      <td>5.814090e+08</td>\n",
       "    </tr>\n",
       "    <tr>\n",
       "      <th>max</th>\n",
       "      <td>33.516998</td>\n",
       "      <td>34.646999</td>\n",
       "      <td>32.035999</td>\n",
       "      <td>33.375999</td>\n",
       "      <td>33.321644</td>\n",
       "      <td>3.692928e+09</td>\n",
       "    </tr>\n",
       "  </tbody>\n",
       "</table>\n",
       "</div>"
      ],
      "text/plain": [
       "              Open         High          Low        Close    Adj Close  \\\n",
       "count  2014.000000  2014.000000  2014.000000  2014.000000  2014.000000   \n",
       "mean      7.979089     8.129079     7.818051     7.978563     7.946668   \n",
       "std       7.509996     7.670714     7.327442     7.501542     7.499611   \n",
       "min       0.481250     0.487500     0.473500     0.478500     0.459453   \n",
       "25%       2.471812     2.505625     2.440000     2.475750     2.442941   \n",
       "50%       5.241875     5.298750     5.128125     5.233375     5.193736   \n",
       "75%      13.141000    13.386625    12.954063    13.162187    13.147104   \n",
       "max      33.516998    34.646999    32.035999    33.375999    33.321644   \n",
       "\n",
       "             Volume  \n",
       "count  2.014000e+03  \n",
       "mean   4.782126e+08  \n",
       "std    2.696910e+08  \n",
       "min    5.244800e+07  \n",
       "25%    3.015300e+08  \n",
       "50%    4.200140e+08  \n",
       "75%    5.814090e+08  \n",
       "max    3.692928e+09  "
      ]
     },
     "execution_count": 24,
     "metadata": {},
     "output_type": "execute_result"
    }
   ],
   "source": [
    "data.describe()"
   ]
  },
  {
   "cell_type": "code",
   "execution_count": 25,
   "id": "34870baa-7999-47a6-ae34-d02b133689f6",
   "metadata": {},
   "outputs": [
    {
     "data": {
      "text/html": [
       "<div>\n",
       "<style scoped>\n",
       "    .dataframe tbody tr th:only-of-type {\n",
       "        vertical-align: middle;\n",
       "    }\n",
       "\n",
       "    .dataframe tbody tr th {\n",
       "        vertical-align: top;\n",
       "    }\n",
       "\n",
       "    .dataframe thead th {\n",
       "        text-align: right;\n",
       "    }\n",
       "</style>\n",
       "<table border=\"1\" class=\"dataframe\">\n",
       "  <thead>\n",
       "    <tr style=\"text-align: right;\">\n",
       "      <th></th>\n",
       "      <th>Open</th>\n",
       "      <th>High</th>\n",
       "      <th>Low</th>\n",
       "      <th>Close</th>\n",
       "      <th>Adj Close</th>\n",
       "      <th>Volume</th>\n",
       "    </tr>\n",
       "    <tr>\n",
       "      <th>Date</th>\n",
       "      <th></th>\n",
       "      <th></th>\n",
       "      <th></th>\n",
       "      <th></th>\n",
       "      <th></th>\n",
       "      <th></th>\n",
       "    </tr>\n",
       "  </thead>\n",
       "  <tbody>\n",
       "    <tr>\n",
       "      <th>2015-01-02</th>\n",
       "      <td>False</td>\n",
       "      <td>False</td>\n",
       "      <td>False</td>\n",
       "      <td>False</td>\n",
       "      <td>False</td>\n",
       "      <td>False</td>\n",
       "    </tr>\n",
       "    <tr>\n",
       "      <th>2015-01-05</th>\n",
       "      <td>False</td>\n",
       "      <td>False</td>\n",
       "      <td>False</td>\n",
       "      <td>False</td>\n",
       "      <td>False</td>\n",
       "      <td>False</td>\n",
       "    </tr>\n",
       "    <tr>\n",
       "      <th>2015-01-06</th>\n",
       "      <td>False</td>\n",
       "      <td>False</td>\n",
       "      <td>False</td>\n",
       "      <td>False</td>\n",
       "      <td>False</td>\n",
       "      <td>False</td>\n",
       "    </tr>\n",
       "    <tr>\n",
       "      <th>2015-01-07</th>\n",
       "      <td>False</td>\n",
       "      <td>False</td>\n",
       "      <td>False</td>\n",
       "      <td>False</td>\n",
       "      <td>False</td>\n",
       "      <td>False</td>\n",
       "    </tr>\n",
       "    <tr>\n",
       "      <th>2015-01-08</th>\n",
       "      <td>False</td>\n",
       "      <td>False</td>\n",
       "      <td>False</td>\n",
       "      <td>False</td>\n",
       "      <td>False</td>\n",
       "      <td>False</td>\n",
       "    </tr>\n",
       "    <tr>\n",
       "      <th>...</th>\n",
       "      <td>...</td>\n",
       "      <td>...</td>\n",
       "      <td>...</td>\n",
       "      <td>...</td>\n",
       "      <td>...</td>\n",
       "      <td>...</td>\n",
       "    </tr>\n",
       "    <tr>\n",
       "      <th>2022-12-23</th>\n",
       "      <td>False</td>\n",
       "      <td>False</td>\n",
       "      <td>False</td>\n",
       "      <td>False</td>\n",
       "      <td>False</td>\n",
       "      <td>False</td>\n",
       "    </tr>\n",
       "    <tr>\n",
       "      <th>2022-12-27</th>\n",
       "      <td>False</td>\n",
       "      <td>False</td>\n",
       "      <td>False</td>\n",
       "      <td>False</td>\n",
       "      <td>False</td>\n",
       "      <td>False</td>\n",
       "    </tr>\n",
       "    <tr>\n",
       "      <th>2022-12-28</th>\n",
       "      <td>False</td>\n",
       "      <td>False</td>\n",
       "      <td>False</td>\n",
       "      <td>False</td>\n",
       "      <td>False</td>\n",
       "      <td>False</td>\n",
       "    </tr>\n",
       "    <tr>\n",
       "      <th>2022-12-29</th>\n",
       "      <td>False</td>\n",
       "      <td>False</td>\n",
       "      <td>False</td>\n",
       "      <td>False</td>\n",
       "      <td>False</td>\n",
       "      <td>False</td>\n",
       "    </tr>\n",
       "    <tr>\n",
       "      <th>2022-12-30</th>\n",
       "      <td>False</td>\n",
       "      <td>False</td>\n",
       "      <td>False</td>\n",
       "      <td>False</td>\n",
       "      <td>False</td>\n",
       "      <td>False</td>\n",
       "    </tr>\n",
       "  </tbody>\n",
       "</table>\n",
       "<p>2014 rows × 6 columns</p>\n",
       "</div>"
      ],
      "text/plain": [
       "             Open   High    Low  Close  Adj Close  Volume\n",
       "Date                                                     \n",
       "2015-01-02  False  False  False  False      False   False\n",
       "2015-01-05  False  False  False  False      False   False\n",
       "2015-01-06  False  False  False  False      False   False\n",
       "2015-01-07  False  False  False  False      False   False\n",
       "2015-01-08  False  False  False  False      False   False\n",
       "...           ...    ...    ...    ...        ...     ...\n",
       "2022-12-23  False  False  False  False      False   False\n",
       "2022-12-27  False  False  False  False      False   False\n",
       "2022-12-28  False  False  False  False      False   False\n",
       "2022-12-29  False  False  False  False      False   False\n",
       "2022-12-30  False  False  False  False      False   False\n",
       "\n",
       "[2014 rows x 6 columns]"
      ]
     },
     "execution_count": 25,
     "metadata": {},
     "output_type": "execute_result"
    }
   ],
   "source": [
    "data.isnull()"
   ]
  },
  {
   "cell_type": "code",
   "execution_count": 26,
   "id": "935a3ac9-d43e-44c0-9598-840b0de5ecb7",
   "metadata": {},
   "outputs": [
    {
     "data": {
      "text/plain": [
       "Open         0\n",
       "High         0\n",
       "Low          0\n",
       "Close        0\n",
       "Adj Close    0\n",
       "Volume       0\n",
       "dtype: int64"
      ]
     },
     "execution_count": 26,
     "metadata": {},
     "output_type": "execute_result"
    }
   ],
   "source": [
    "data.isnull().sum()"
   ]
  },
  {
   "cell_type": "code",
   "execution_count": 27,
   "id": "61befc96-068b-4f2b-a8e8-e1e4907c8ee8",
   "metadata": {},
   "outputs": [],
   "source": [
    "data1=data[['Close']].values"
   ]
  },
  {
   "cell_type": "code",
   "execution_count": 28,
   "id": "3e4bf13a-a518-4ece-a3ea-d2b81c2f74d3",
   "metadata": {},
   "outputs": [],
   "source": [
    "scaler=MinMaxScaler(feature_range=(0,1))\n",
    "scaled_data=scaler.fit_transform(data1)"
   ]
  },
  {
   "cell_type": "code",
   "execution_count": 77,
   "id": "491e860f-c684-4017-9925-81f0906c9062",
   "metadata": {},
   "outputs": [],
   "source": [
    "train_data=[]\n",
    "target_data=[]"
   ]
  },
  {
   "cell_type": "code",
   "execution_count": 78,
   "id": "ffd48599-1fff-4e6e-982a-bc0f293b30c0",
   "metadata": {},
   "outputs": [],
   "source": [
    "for a in range(60,len(scaled_data)):\n",
    "    train_data.append(scaled_data[a-60:a,0])\n",
    "    target_data.append(scaled_data[a,0])"
   ]
  },
  {
   "cell_type": "code",
   "execution_count": 79,
   "id": "4f401ed1-ce51-4948-81f3-996677af8b13",
   "metadata": {},
   "outputs": [],
   "source": [
    "train_data=np.array(train_data)\n",
    "target_data=np.array(target_data)"
   ]
  },
  {
   "cell_type": "code",
   "execution_count": 80,
   "id": "0abeb547-952f-42ae-bf1c-2ef1251ff781",
   "metadata": {},
   "outputs": [],
   "source": [
    "train_data=np.reshape(train_data,(train_data.shape[0],train_data.shape[1],1))"
   ]
  },
  {
   "cell_type": "code",
   "execution_count": 81,
   "id": "5206eda1-af09-4ab4-bb04-c29635f9a95a",
   "metadata": {},
   "outputs": [
    {
     "name": "stderr",
     "output_type": "stream",
     "text": [
      "C:\\Users\\bolle\\OneDrive\\Documents\\python\\lib\\site-packages\\keras\\src\\layers\\rnn\\rnn.py:204: UserWarning: Do not pass an `input_shape`/`input_dim` argument to a layer. When using Sequential models, prefer using an `Input(shape)` object as the first layer in the model instead.\n",
      "  super().__init__(**kwargs)\n"
     ]
    }
   ],
   "source": [
    "model=Sequential()\n",
    "model.add(LSTM(units=50,return_sequences=True,input_shape=(train_data.shape[1],1)))\n",
    "model.add(LSTM(units=50,return_sequences=False))\n",
    "model.add(Dense(units=25))\n",
    "model.add(Dense(units=1))"
   ]
  },
  {
   "cell_type": "code",
   "execution_count": 82,
   "id": "ea93d9d0-6928-4dd9-b81e-31ff7df1b9f2",
   "metadata": {},
   "outputs": [],
   "source": [
    "model.compile(optimizer='adam',loss='mean_squared_error')"
   ]
  },
  {
   "cell_type": "code",
   "execution_count": 83,
   "id": "88eab368-e885-4cd8-994e-1c8c7bc2c57c",
   "metadata": {},
   "outputs": [
    {
     "name": "stdout",
     "output_type": "stream",
     "text": [
      "Epoch 1/20\n",
      "\u001b[1m1954/1954\u001b[0m \u001b[32m━━━━━━━━━━━━━━━━━━━━\u001b[0m\u001b[37m\u001b[0m \u001b[1m50s\u001b[0m 24ms/step - loss: 0.0026\n",
      "Epoch 2/20\n",
      "\u001b[1m1954/1954\u001b[0m \u001b[32m━━━━━━━━━━━━━━━━━━━━\u001b[0m\u001b[37m\u001b[0m \u001b[1m82s\u001b[0m 23ms/step - loss: 6.1141e-04\n",
      "Epoch 3/20\n",
      "\u001b[1m1954/1954\u001b[0m \u001b[32m━━━━━━━━━━━━━━━━━━━━\u001b[0m\u001b[37m\u001b[0m \u001b[1m46s\u001b[0m 24ms/step - loss: 5.9946e-04\n",
      "Epoch 4/20\n",
      "\u001b[1m1954/1954\u001b[0m \u001b[32m━━━━━━━━━━━━━━━━━━━━\u001b[0m\u001b[37m\u001b[0m \u001b[1m46s\u001b[0m 24ms/step - loss: 3.7639e-04\n",
      "Epoch 5/20\n",
      "\u001b[1m1954/1954\u001b[0m \u001b[32m━━━━━━━━━━━━━━━━━━━━\u001b[0m\u001b[37m\u001b[0m \u001b[1m47s\u001b[0m 24ms/step - loss: 3.3941e-04\n",
      "Epoch 6/20\n",
      "\u001b[1m1954/1954\u001b[0m \u001b[32m━━━━━━━━━━━━━━━━━━━━\u001b[0m\u001b[37m\u001b[0m \u001b[1m46s\u001b[0m 24ms/step - loss: 4.5648e-04\n",
      "Epoch 7/20\n",
      "\u001b[1m1954/1954\u001b[0m \u001b[32m━━━━━━━━━━━━━━━━━━━━\u001b[0m\u001b[37m\u001b[0m \u001b[1m46s\u001b[0m 23ms/step - loss: 3.6778e-04\n",
      "Epoch 8/20\n",
      "\u001b[1m1954/1954\u001b[0m \u001b[32m━━━━━━━━━━━━━━━━━━━━\u001b[0m\u001b[37m\u001b[0m \u001b[1m69s\u001b[0m 35ms/step - loss: 4.1496e-04\n",
      "Epoch 9/20\n",
      "\u001b[1m1954/1954\u001b[0m \u001b[32m━━━━━━━━━━━━━━━━━━━━\u001b[0m\u001b[37m\u001b[0m \u001b[1m63s\u001b[0m 26ms/step - loss: 2.8484e-04\n",
      "Epoch 10/20\n",
      "\u001b[1m1954/1954\u001b[0m \u001b[32m━━━━━━━━━━━━━━━━━━━━\u001b[0m\u001b[37m\u001b[0m \u001b[1m48s\u001b[0m 25ms/step - loss: 3.1529e-04\n",
      "Epoch 11/20\n",
      "\u001b[1m1954/1954\u001b[0m \u001b[32m━━━━━━━━━━━━━━━━━━━━\u001b[0m\u001b[37m\u001b[0m \u001b[1m46s\u001b[0m 24ms/step - loss: 2.7611e-04\n",
      "Epoch 12/20\n",
      "\u001b[1m1954/1954\u001b[0m \u001b[32m━━━━━━━━━━━━━━━━━━━━\u001b[0m\u001b[37m\u001b[0m \u001b[1m46s\u001b[0m 23ms/step - loss: 3.0707e-04\n",
      "Epoch 13/20\n",
      "\u001b[1m1954/1954\u001b[0m \u001b[32m━━━━━━━━━━━━━━━━━━━━\u001b[0m\u001b[37m\u001b[0m \u001b[1m46s\u001b[0m 24ms/step - loss: 3.4922e-04\n",
      "Epoch 14/20\n",
      "\u001b[1m1954/1954\u001b[0m \u001b[32m━━━━━━━━━━━━━━━━━━━━\u001b[0m\u001b[37m\u001b[0m \u001b[1m82s\u001b[0m 24ms/step - loss: 2.7107e-04\n",
      "Epoch 15/20\n",
      "\u001b[1m1954/1954\u001b[0m \u001b[32m━━━━━━━━━━━━━━━━━━━━\u001b[0m\u001b[37m\u001b[0m \u001b[1m82s\u001b[0m 24ms/step - loss: 2.8236e-04\n",
      "Epoch 16/20\n",
      "\u001b[1m1954/1954\u001b[0m \u001b[32m━━━━━━━━━━━━━━━━━━━━\u001b[0m\u001b[37m\u001b[0m \u001b[1m46s\u001b[0m 23ms/step - loss: 2.6451e-04\n",
      "Epoch 17/20\n",
      "\u001b[1m1954/1954\u001b[0m \u001b[32m━━━━━━━━━━━━━━━━━━━━\u001b[0m\u001b[37m\u001b[0m \u001b[1m46s\u001b[0m 23ms/step - loss: 3.4793e-04\n",
      "Epoch 18/20\n",
      "\u001b[1m1954/1954\u001b[0m \u001b[32m━━━━━━━━━━━━━━━━━━━━\u001b[0m\u001b[37m\u001b[0m \u001b[1m46s\u001b[0m 23ms/step - loss: 2.5509e-04\n",
      "Epoch 19/20\n",
      "\u001b[1m1954/1954\u001b[0m \u001b[32m━━━━━━━━━━━━━━━━━━━━\u001b[0m\u001b[37m\u001b[0m \u001b[1m46s\u001b[0m 24ms/step - loss: 2.4690e-04\n",
      "Epoch 20/20\n",
      "\u001b[1m1954/1954\u001b[0m \u001b[32m━━━━━━━━━━━━━━━━━━━━\u001b[0m\u001b[37m\u001b[0m \u001b[1m46s\u001b[0m 23ms/step - loss: 2.4068e-04\n"
     ]
    },
    {
     "data": {
      "text/plain": [
       "<keras.src.callbacks.history.History at 0x272c14994e0>"
      ]
     },
     "execution_count": 83,
     "metadata": {},
     "output_type": "execute_result"
    }
   ],
   "source": [
    "model.fit(train_data, target_data, epochs=20, batch_size=1)"
   ]
  },
  {
   "cell_type": "code",
   "execution_count": 91,
   "id": "cf53ac55-b512-404f-a57c-32dda59589f1",
   "metadata": {},
   "outputs": [
    {
     "name": "stderr",
     "output_type": "stream",
     "text": [
      "[*********************100%%**********************]  1 of 1 completed\n"
     ]
    }
   ],
   "source": [
    "new_data=yf.download('NVDA', start=end_date, end=\"2024-05-13\")\n",
    "new_scaled_data=scaler.transform(new_data['Close'].values.reshape(-1,1))"
   ]
  },
  {
   "cell_type": "code",
   "execution_count": 92,
   "id": "233bbb3a-640e-4b47-a9d2-d3edfb9086a3",
   "metadata": {},
   "outputs": [],
   "source": [
    "test_data= new_scaled_data[-60:]\n",
    "test_data = np.reshape(test_data, (1, 60, 1))"
   ]
  },
  {
   "cell_type": "code",
   "execution_count": 93,
   "id": "b36d5e98-1930-4c9d-a0a8-e438eee04e96",
   "metadata": {},
   "outputs": [
    {
     "name": "stdout",
     "output_type": "stream",
     "text": [
      "\u001b[1m1/1\u001b[0m \u001b[32m━━━━━━━━━━━━━━━━━━━━\u001b[0m\u001b[37m\u001b[0m \u001b[1m0s\u001b[0m 47ms/step\n"
     ]
    }
   ],
   "source": [
    "predicted_price = model.predict(test_data)\n",
    "predicted_price = scaler.inverse_transform(predicted_price)"
   ]
  },
  {
   "cell_type": "code",
   "execution_count": 95,
   "id": "e796c812-fc35-45af-aba2-a077011e2874",
   "metadata": {},
   "outputs": [
    {
     "name": "stdout",
     "output_type": "stream",
     "text": [
      "Predicted price for May 13, 2024: $76.79\n"
     ]
    }
   ],
   "source": [
    "print(\"Predicted price for May 13, 2024:\", \"${:.2f}\".format(predicted_price[0][0]))"
   ]
  },
  {
   "cell_type": "code",
   "execution_count": null,
   "id": "90948c24-cc5c-4c59-b54e-e3bccf8a45be",
   "metadata": {},
   "outputs": [],
   "source": []
  }
 ],
 "metadata": {
  "kernelspec": {
   "display_name": "Python 3 (ipykernel)",
   "language": "python",
   "name": "python3"
  },
  "language_info": {
   "codemirror_mode": {
    "name": "ipython",
    "version": 3
   },
   "file_extension": ".py",
   "mimetype": "text/x-python",
   "name": "python",
   "nbconvert_exporter": "python",
   "pygments_lexer": "ipython3",
   "version": "3.10.11"
  }
 },
 "nbformat": 4,
 "nbformat_minor": 5
}
